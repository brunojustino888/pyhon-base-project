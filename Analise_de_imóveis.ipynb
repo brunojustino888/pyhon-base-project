{
  "cells": [
    {
      "cell_type": "markdown",
      "source": [
        "Importando csv de uma determinada URL:"
      ],
      "metadata": {
        "id": "aAK6qmFns7Ja"
      }
    },
    {
      "cell_type": "code",
      "source": [
        "import pandas as pd\n",
        "url = \"https://raw.githubusercontent.com/brunojustino888/pyhon-base-project/main/dados_imoveis.csv\";\n",
        "dados = pd.read_csv(url);"
      ],
      "metadata": {
        "id": "cMsayNGPlCBw"
      },
      "execution_count": 2,
      "outputs": []
    },
    {
      "cell_type": "markdown",
      "source": [
        "Amostra dos 10 primeiros regisros do DF (Data frame):"
      ],
      "metadata": {
        "id": "CdinthZjtHmD"
      }
    },
    {
      "cell_type": "code",
      "source": [
        "print(dados.head(10));"
      ],
      "metadata": {
        "colab": {
          "base_uri": "https://localhost:8080/"
        },
        "id": "BT_F98x03pAQ",
        "outputId": "856c5980-eb74-47f7-8edd-a3577d6e69f5"
      },
      "execution_count": 3,
      "outputs": [
        {
          "output_type": "stream",
          "name": "stdout",
          "text": [
            "                              Rua              Bairro     Cidade  Metragem  \\\n",
            "0           Avenida Itacira, 255    Planalto Paulista  São Paulo      1000   \n",
            "1  Rua Aurelia Perez Alvarez, 42   Jardim dos Estados  São Paulo       496   \n",
            "2                 Rua Alba Valdez     Jardim Reimberg  São Paulo       125   \n",
            "3                             NaN      Jardim Morumbi  São Paulo       310   \n",
            "4        Rua Tobias Barreto, 195                Mooca  São Paulo       100   \n",
            "5                 Rua Graham Bell         Santo Amaro  São Paulo       440   \n",
            "6        Rua Francisco Paulo, 31    Cidade Mãe do Céu  São Paulo       145   \n",
            "7     Rua Guilherme Valente, 150     Jardim Vergueiro  São Paulo       150   \n",
            "8         Rua Sagrada Família, 8       Jardim Benfica  São Paulo        48   \n",
            "9                      Rua Tapaji         Vila Alpina  São Paulo       114   \n",
            "\n",
            "   Quartos  Banheiros  Vagas         Valor  \n",
            "0        4          8      6  R$ 7.000.000  \n",
            "1        4          4      4  R$ 3.700.000  \n",
            "2        4          3      2    R$ 380.000  \n",
            "3        3          2      4    R$ 685.000  \n",
            "4        3          2      2    R$ 540.000  \n",
            "5        4          4      6  R$ 1.980.000  \n",
            "6        4          4      2    R$ 850.000  \n",
            "7        2          2      2    R$ 450.000  \n",
            "8        2          1      1    R$ 199.900  \n",
            "9        3          3      2    R$ 585.000  \n"
          ]
        }
      ]
    },
    {
      "cell_type": "code",
      "source": [
        "print(dados.sample(10));"
      ],
      "metadata": {
        "colab": {
          "base_uri": "https://localhost:8080/"
        },
        "id": "NwzvmM5ltRNJ",
        "outputId": "6d82f1f0-64f2-4145-97b2-4fd79d80837a"
      },
      "execution_count": 4,
      "outputs": [
        {
          "output_type": "stream",
          "name": "stdout",
          "text": [
            "                                           Rua             Bairro     Cidade  \\\n",
            "7506           Rua Comandante Ismael Guilherme   Jardim Luzitânia  São Paulo   \n",
            "6957      Rua Doutor José Maria Whitaker, 176          Vila Sônia  São Paulo   \n",
            "1813                                Rua Traipu           Pacaembu  São Paulo   \n",
            "3740                                       NaN           Vila Ida  São Paulo   \n",
            "3869                           Rua Irmãos Pila        Vila Mazzei  São Paulo   \n",
            "5008                                       NaN    Vila Progredior  São Paulo   \n",
            "9214                          Rua Pirajuia, 0             Jaguaré  São Paulo   \n",
            "4106                              Rua Realengo      Vila Madalena  São Paulo   \n",
            "3932                                       NaN  Alto de Pinheiros  São Paulo   \n",
            "511   Rua Francisco Gomes da Silva Prado, 125     Bosque da Saúde  São Paulo   \n",
            "\n",
            "      Metragem  Quartos  Banheiros  Vagas  \\\n",
            "7506       600        3          6      4   \n",
            "6957       535        3          6      4   \n",
            "1813       285        4          2      2   \n",
            "3740       450        5          6      4   \n",
            "3869       200        3          3      2   \n",
            "5008       260        3          3      3   \n",
            "9214       230        4          4      4   \n",
            "4106       113        3          3      2   \n",
            "3932       556        4          3      4   \n",
            "511        257        4          1      4   \n",
            "\n",
            "                                        Valor  \n",
            "7506                            R$ 12.000.000  \n",
            "6957                             R$ 2.980.000  \n",
            "1813                             R$ 2.200.000  \n",
            "3740                             R$ 6.400.000  \n",
            "3869                               R$ 745.000  \n",
            "5008                             R$ 1.500.000  \n",
            "9214                               R$ 700.000  \n",
            "4106                             R$ 1.050.000  \n",
            "3932  R$ 75.000\\r\\n                      /Mês  \n",
            "511                              R$ 1.100.000  \n"
          ]
        }
      ]
    },
    {
      "cell_type": "markdown",
      "source": [
        "Amostra das informacoes do DF (Data Frame):"
      ],
      "metadata": {
        "id": "IODqalc2taP7"
      }
    },
    {
      "cell_type": "code",
      "source": [
        "print(dados.info());"
      ],
      "metadata": {
        "colab": {
          "base_uri": "https://localhost:8080/"
        },
        "id": "CCJEOfaItnr6",
        "outputId": "56c47397-9ea1-49b1-a505-1262416ac2f8"
      },
      "execution_count": null,
      "outputs": [
        {
          "output_type": "stream",
          "name": "stdout",
          "text": [
            "<class 'pandas.core.frame.DataFrame'>\n",
            "RangeIndex: 10008 entries, 0 to 10007\n",
            "Data columns (total 8 columns):\n",
            " #   Column     Non-Null Count  Dtype \n",
            "---  ------     --------------  ----- \n",
            " 0   Rua        6574 non-null   object\n",
            " 1   Bairro     9996 non-null   object\n",
            " 2   Cidade     10008 non-null  object\n",
            " 3   Metragem   10008 non-null  int64 \n",
            " 4   Quartos    10008 non-null  int64 \n",
            " 5   Banheiros  10008 non-null  int64 \n",
            " 6   Vagas      10008 non-null  int64 \n",
            " 7   Valor      10008 non-null  object\n",
            "dtypes: int64(4), object(4)\n",
            "memory usage: 625.6+ KB\n",
            "None\n"
          ]
        }
      ]
    },
    {
      "cell_type": "markdown",
      "source": [
        "Obtem o bairro do imovel 6522 do DF (Data Frame)."
      ],
      "metadata": {
        "id": "y0Hw072c1_Bu"
      }
    },
    {
      "cell_type": "code",
      "source": [
        "print(dados[\"Bairro\"][6522]);"
      ],
      "metadata": {
        "colab": {
          "base_uri": "https://localhost:8080/"
        },
        "id": "HqSNwmLU1-IO",
        "outputId": "b7be4c32-a1cf-4110-fa92-dc9ac61fd517"
      },
      "execution_count": 5,
      "outputs": [
        {
          "output_type": "stream",
          "name": "stdout",
          "text": [
            "Vila Paulo Silas\n"
          ]
        }
      ]
    },
    {
      "cell_type": "code",
      "source": [
        "print(dados.Bairro[6522]);"
      ],
      "metadata": {
        "colab": {
          "base_uri": "https://localhost:8080/"
        },
        "id": "A_6b_4d04ns3",
        "outputId": "3a814960-8f88-4837-9f8f-d30f7699ef4e"
      },
      "execution_count": 7,
      "outputs": [
        {
          "output_type": "stream",
          "name": "stdout",
          "text": [
            "Vila Paulo Silas\n"
          ]
        }
      ]
    },
    {
      "cell_type": "markdown",
      "source": [
        "Obtem a media da metragem dos imoveis do DF (Data Frame)."
      ],
      "metadata": {
        "id": "mjrYwQc45QzY"
      }
    },
    {
      "cell_type": "code",
      "source": [
        "print(dados.Metragem.mean());"
      ],
      "metadata": {
        "colab": {
          "base_uri": "https://localhost:8080/"
        },
        "id": "ZXVCFtAw5qz_",
        "outputId": "d1b6b545-c686-4aea-94d6-5157b65e802c"
      },
      "execution_count": 8,
      "outputs": [
        {
          "output_type": "stream",
          "name": "stdout",
          "text": [
            "442.30065947242207\n"
          ]
        }
      ]
    }
  ],
  "metadata": {
    "colab": {
      "collapsed_sections": [],
      "name": "Analise de imóveis",
      "toc_visible": true,
      "provenance": [],
      "history_visible": true
    },
    "kernelspec": {
      "display_name": "Python 3",
      "name": "python3"
    }
  },
  "nbformat": 4,
  "nbformat_minor": 0
}