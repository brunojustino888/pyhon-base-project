{
  "cells": [
    {
      "cell_type": "markdown",
      "source": [
        "Importando csv de uma determinada URL:"
      ],
      "metadata": {
        "id": "aAK6qmFns7Ja"
      }
    },
    {
      "cell_type": "code",
      "source": [
        "import pandas as pd\n",
        "url = \"https://raw.githubusercontent.com/brunojustino888/pyhon-base-project/main/dados_imoveis.csv\";\n",
        "dados = pd.read_csv(url);"
      ],
      "metadata": {
        "id": "cMsayNGPlCBw"
      },
      "execution_count": null,
      "outputs": []
    },
    {
      "cell_type": "markdown",
      "source": [
        "Amostra dos 10 primeiros regisros do DF (Data frame):"
      ],
      "metadata": {
        "id": "CdinthZjtHmD"
      }
    },
    {
      "cell_type": "code",
      "source": [
        "print(dados.head(10));"
      ],
      "metadata": {
        "colab": {
          "base_uri": "https://localhost:8080/"
        },
        "id": "NwzvmM5ltRNJ",
        "outputId": "71ed4da5-311b-4b33-c0da-36fbee705685"
      },
      "execution_count": null,
      "outputs": [
        {
          "output_type": "stream",
          "name": "stdout",
          "text": [
            "                              Rua              Bairro     Cidade  Metragem  \\\n",
            "0           Avenida Itacira, 255    Planalto Paulista  São Paulo      1000   \n",
            "1  Rua Aurelia Perez Alvarez, 42   Jardim dos Estados  São Paulo       496   \n",
            "2                 Rua Alba Valdez     Jardim Reimberg  São Paulo       125   \n",
            "3                             NaN      Jardim Morumbi  São Paulo       310   \n",
            "4        Rua Tobias Barreto, 195                Mooca  São Paulo       100   \n",
            "5                 Rua Graham Bell         Santo Amaro  São Paulo       440   \n",
            "6        Rua Francisco Paulo, 31    Cidade Mãe do Céu  São Paulo       145   \n",
            "7     Rua Guilherme Valente, 150     Jardim Vergueiro  São Paulo       150   \n",
            "8         Rua Sagrada Família, 8       Jardim Benfica  São Paulo        48   \n",
            "9                      Rua Tapaji         Vila Alpina  São Paulo       114   \n",
            "\n",
            "   Quartos  Banheiros  Vagas         Valor  \n",
            "0        4          8      6  R$ 7.000.000  \n",
            "1        4          4      4  R$ 3.700.000  \n",
            "2        4          3      2    R$ 380.000  \n",
            "3        3          2      4    R$ 685.000  \n",
            "4        3          2      2    R$ 540.000  \n",
            "5        4          4      6  R$ 1.980.000  \n",
            "6        4          4      2    R$ 850.000  \n",
            "7        2          2      2    R$ 450.000  \n",
            "8        2          1      1    R$ 199.900  \n",
            "9        3          3      2    R$ 585.000  \n"
          ]
        }
      ]
    },
    {
      "cell_type": "markdown",
      "source": [
        "Amostra das informacoes do DF (Data Frame):"
      ],
      "metadata": {
        "id": "IODqalc2taP7"
      }
    },
    {
      "cell_type": "code",
      "source": [
        "print(dados.head(10));"
      ],
      "metadata": {
        "colab": {
          "base_uri": "https://localhost:8080/"
        },
        "id": "CCJEOfaItnr6",
        "outputId": "92c9377e-4e59-4ac0-e06b-94209d0ab4eb"
      },
      "execution_count": null,
      "outputs": [
        {
          "output_type": "stream",
          "name": "stdout",
          "text": [
            "                              Rua              Bairro     Cidade  Metragem  \\\n",
            "0           Avenida Itacira, 255    Planalto Paulista  São Paulo      1000   \n",
            "1  Rua Aurelia Perez Alvarez, 42   Jardim dos Estados  São Paulo       496   \n",
            "2                 Rua Alba Valdez     Jardim Reimberg  São Paulo       125   \n",
            "3                             NaN      Jardim Morumbi  São Paulo       310   \n",
            "4        Rua Tobias Barreto, 195                Mooca  São Paulo       100   \n",
            "5                 Rua Graham Bell         Santo Amaro  São Paulo       440   \n",
            "6        Rua Francisco Paulo, 31    Cidade Mãe do Céu  São Paulo       145   \n",
            "7     Rua Guilherme Valente, 150     Jardim Vergueiro  São Paulo       150   \n",
            "8         Rua Sagrada Família, 8       Jardim Benfica  São Paulo        48   \n",
            "9                      Rua Tapaji         Vila Alpina  São Paulo       114   \n",
            "\n",
            "   Quartos  Banheiros  Vagas         Valor  \n",
            "0        4          8      6  R$ 7.000.000  \n",
            "1        4          4      4  R$ 3.700.000  \n",
            "2        4          3      2    R$ 380.000  \n",
            "3        3          2      4    R$ 685.000  \n",
            "4        3          2      2    R$ 540.000  \n",
            "5        4          4      6  R$ 1.980.000  \n",
            "6        4          4      2    R$ 850.000  \n",
            "7        2          2      2    R$ 450.000  \n",
            "8        2          1      1    R$ 199.900  \n",
            "9        3          3      2    R$ 585.000  \n"
          ]
        }
      ]
    }
  ],
  "metadata": {
    "colab": {
      "collapsed_sections": [],
      "name": "Analise de imóveis",
      "toc_visible": true,
      "provenance": [],
      "history_visible": true
    },
    "kernelspec": {
      "display_name": "Python 3",
      "name": "python3"
    }
  },
  "nbformat": 4,
  "nbformat_minor": 0
}